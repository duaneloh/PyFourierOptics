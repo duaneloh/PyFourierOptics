{
 "metadata": {
  "kernelspec": {
   "display_name": "Python 2",
   "language": "python",
   "name": "python2"
  },
  "language_info": {
   "codemirror_mode": {
    "name": "ipython",
    "version": 2
   },
   "file_extension": ".py",
   "mimetype": "text/x-python",
   "name": "python",
   "nbconvert_exporter": "python",
   "pygments_lexer": "ipython2",
   "version": "2.7.9"
  },
  "name": "",
  "signature": "sha256:10118eeed452b8d662103412145074b0c3b3b4fe1e99db777cf69d325289a0e5"
 },
 "nbformat": 3,
 "nbformat_minor": 0,
 "worksheets": [
  {
   "cells": [
    {
     "cell_type": "heading",
     "level": 1,
     "metadata": {},
     "source": [
      "Diffraction for Circular Aperture"
     ]
    },
    {
     "cell_type": "code",
     "collapsed": false,
     "input": [
      "#Enable matplotlib and pylab functions to work directly in this notebook\n",
      "%matplotlib inline\n",
      "%pylab inline\n",
      "\n",
      "#Refreshes changes in libraries to be reloaded when they are re-imported\n",
      "%load_ext autoreload\n",
      "%autoreload 2\n",
      "\n",
      "#Import useful modules\n",
      "import matplotlib\n",
      "import numpy as np\n",
      "import time\n",
      "import os\n",
      "#Add library path of this repository\n",
      "sys.path.append(os.path.realpath('../lib'))\n",
      "\n",
      "#from scipy import ndimage\n",
      "\n",
      "#Set plotting defaults in notebook\n",
      "from matplotlib import rcParams\n",
      "rcParams[\"font.size\"] = \"15\""
     ],
     "language": "python",
     "metadata": {},
     "outputs": [
      {
       "output_type": "stream",
       "stream": "stdout",
       "text": [
        "Populating the interactive namespace from numpy and matplotlib\n"
       ]
      }
     ],
     "prompt_number": 4
    },
    {
     "cell_type": "markdown",
     "metadata": {},
     "source": [
      "Then define the parameters for the diffraction experiment. All the symbols have their usual meaning (refer to chapter 4 section 4.4.2). "
     ]
    },
    {
     "cell_type": "code",
     "collapsed": true,
     "input": [
      "class diffractor(object):\n",
      "    def __init__(self, waveLen, det_pix_size, N_pix=200):\n",
      "        self.waveLen      = waveLen\n",
      "        self.k            = 2.*np.pi/waveLen\n",
      "\n",
      "        # since we fix the pixel size and number of pixels at the detector plane (i.e. xy plane),\n",
      "        self.N_pix        = N_pix                   # number of detector pixels\n",
      "        self.det_pix_size = det_pix_size            # pixel size at the detector\n",
      "        self.det_len      = det_pix_size*self.N_pix # detector plane size\n",
      "        (self.det_x, self.det_y) = self.make2Dplane(self.det_len, self.N_pix)\n",
      "\n",
      "        self.obj = None\n",
      "        self.obj_pix = None\n",
      "        self.xi = None\n",
      "        self.eta = None\n",
      "        self.res = None\n",
      "        self.z = None\n",
      "        \n",
      "    def compute_resolution(self, z):\n",
      "        return self.waveLen*z / (self.det_pix_size*self.N_pix)\n",
      "\n",
      "    def compute_Fresnel_criterion(self, z):\n",
      "        pass\n",
      "        \n",
      "    def compute_Fraunhofer_criterion(self, z):\n",
      "        pass\n",
      "\n",
      "    def make2Dplane(self, Lx, N):\n",
      "        (x,y) = np.mgrid[-Lx/2:Lx/2:N*1j,-Lx/2:Lx/2:N*1j]\n",
      "        return (x,y)\n",
      "\n",
      "    def setup_detector_distance(self, z):\n",
      "        # once the detector size and its pixel size are fixed it relates to the illumination plane by the Fourier Transform\n",
      "        # See equation 4-17 (Goodman, chapter4)\n",
      "        self.z   = z\n",
      "        self.res = self.compute_resolution(z)\n",
      "        # compute if we are in the Fresnel or Fraunhofer limit\n",
      "    \n",
      "    def make_circ_aperture(self, aperture_rad):\n",
      "        if self.z is None:\n",
      "            print(\"Please setup detector distance\")\n",
      "        else: \n",
      "            max_aperture_radius = 0.5*self.res*self.N_pix\n",
      "            if aperture_rad >= max_aperture_radius:\n",
      "                print(\"Aperture radius larger than max: %e\"%(max_aperture_radius))\n",
      "                print(\"Will use max aperture radius instead\")\n",
      "                curr_aperture_rad = max_aperture_radius\n",
      "            elif aperture_rad < self.res:\n",
      "                print(\"Aperture radius smaller than pixel res: %e\"%(self.res))\n",
      "                print(\"Will use pixel size as radius instead\")\n",
      "                curr_aperture_rad = self.res\n",
      "            else:\n",
      "                curr_aperture_rad = aperture_rad\n",
      "            (self.xi, self.eta) = self.make2Dplane(2*max_aperture_radius, self.N_pix)\n",
      "            self.obj = np.sqrt(self.xi*self.xi + self.eta*self.eta) < curr_aperture_rad\n",
      "    \n",
      "    def make_square_aperture(self, aperture_rad):\n",
      "        if self.z is None:\n",
      "            print(\"Please setup detector distance\")\n",
      "        else: \n",
      "            max_aperture_radius = 0.5*self.res*self.N_pix\n",
      "            if aperture_rad >= max_aperture_radius:\n",
      "                print(\"Aperture radius larger than max: %e\"%(max_aperture_radius))\n",
      "                print(\"Will use max aperture radius instead\")\n",
      "                curr_aperture_rad = max_aperture_radius\n",
      "            elif aperture_rad < self.res:\n",
      "                print(\"Aperture radius smaller than pixel res: %e\"%(self.res))\n",
      "                print(\"Will use pixel size as radius instead\")\n",
      "                curr_aperture_rad = self.res\n",
      "            else:\n",
      "                curr_aperture_rad = aperture_rad\n",
      "            (self.xi, self.eta) = self.make2Dplane(2*max_aperture_radius, self.N_pix)\n",
      "            self.obj = (np.abs(self.xi) < curr_aperture_rad)&(np.abs(self.eta) < curr_aperture_rad)\n",
      "\n",
      "    \n",
      "    def Fresnel(self, showPhase=False):\n",
      "        if self.z is None:\n",
      "            print(\"Please setup detector distance\")\n",
      "        else:\n",
      "            quad_phase     = np.exp(1j*self.k*(self.xi*self.xi + self.eta*self.eta)/(2.*self.z))\n",
      "            overall_phase  = np.exp(1j*self.k*(self.det_x*self.det_x + self.det_y*self.det_y)/(2*self.z)) \n",
      "            fall_off       = np.exp(1j*self.k*self.z) / (1j*self.waveLen*self.z)\n",
      "            U = overall_phase * fall_off * np.fft.fftshift(np.fft.fft2(quad_phase*self.obj))\n",
      "            if showPhase:\n",
      "                return U\n",
      "            else:\n",
      "                return abs(U)**2\n",
      "\n",
      "    def Fraunhofer(self, showPhase=False):\n",
      "        if self.z is None:\n",
      "            print(\"Please setup detector distance\")\n",
      "        else:\n",
      "            fall_off = np.exp(1j*self.k*self.z) / (1j*self.waveLen*self.z)\n",
      "            U = fall_off * np.fft.fftshift(np.fft.fft2(self.obj))\n",
      "            if showPhase:\n",
      "                return U\n",
      "            else:\n",
      "                return abs(U)**2\n",
      "    "
     ],
     "language": "python",
     "metadata": {},
     "outputs": [],
     "prompt_number": 10
    },
    {
     "cell_type": "code",
     "collapsed": false,
     "input": [
      "waveLen = 500E-9\n",
      "r = 20.*waveLen\n",
      "z = 200.*waveLen\n",
      "pixelSize = 0.5E-6"
     ],
     "language": "python",
     "metadata": {},
     "outputs": [],
     "prompt_number": 11
    },
    {
     "cell_type": "code",
     "collapsed": false,
     "input": [
      "diffObj = diffractor(waveLen, pixelSize)\n",
      "diffObj.setup_detector_distance(z)\n",
      "diffObj.make_circ_aperture(r)\n",
      "#diffObj.make_square_aperture(r)\n",
      "#imshow(np.abs(diffObj.Fraunhofer())**0.4)\n",
      "figure(figsize=(8,8))\n",
      "imshow(np.abs(diffObj.Fresnel())**0.4)"
     ],
     "language": "python",
     "metadata": {},
     "outputs": [
      {
       "ename": "NameError",
       "evalue": "name 'diffractor' is not defined",
       "output_type": "pyerr",
       "traceback": [
        "\u001b[1;31m---------------------------------------------------------------------------\u001b[0m\n\u001b[1;31mNameError\u001b[0m                                 Traceback (most recent call last)",
        "\u001b[1;32m<ipython-input-1-d3b758aeee6e>\u001b[0m in \u001b[0;36m<module>\u001b[1;34m()\u001b[0m\n\u001b[1;32m----> 1\u001b[1;33m \u001b[0mdiffObj\u001b[0m \u001b[1;33m=\u001b[0m \u001b[0mdiffractor\u001b[0m\u001b[1;33m(\u001b[0m\u001b[0mwaveLen\u001b[0m\u001b[1;33m,\u001b[0m \u001b[0mpixelSize\u001b[0m\u001b[1;33m)\u001b[0m\u001b[1;33m\u001b[0m\u001b[0m\n\u001b[0m\u001b[0;32m      2\u001b[0m \u001b[0mdiffObj\u001b[0m\u001b[1;33m.\u001b[0m\u001b[0msetup_detector_distance\u001b[0m\u001b[1;33m(\u001b[0m\u001b[0mz\u001b[0m\u001b[1;33m)\u001b[0m\u001b[1;33m\u001b[0m\u001b[0m\n\u001b[0;32m      3\u001b[0m \u001b[0mdiffObj\u001b[0m\u001b[1;33m.\u001b[0m\u001b[0mmake_circ_aperture\u001b[0m\u001b[1;33m(\u001b[0m\u001b[0mr\u001b[0m\u001b[1;33m)\u001b[0m\u001b[1;33m\u001b[0m\u001b[0m\n\u001b[0;32m      4\u001b[0m \u001b[1;31m#diffObj.make_square_aperture(r)\u001b[0m\u001b[1;33m\u001b[0m\u001b[1;33m\u001b[0m\u001b[0m\n\u001b[0;32m      5\u001b[0m \u001b[1;31m#imshow(np.abs(diffObj.Fraunhofer())**0.4)\u001b[0m\u001b[1;33m\u001b[0m\u001b[1;33m\u001b[0m\u001b[0m\n",
        "\u001b[1;31mNameError\u001b[0m: name 'diffractor' is not defined"
       ]
      }
     ],
     "prompt_number": 1
    },
    {
     "cell_type": "markdown",
     "metadata": {
      "collapsed": true
     },
     "source": [
      "#Alok\n",
      "##Document what you did with clear and concise comments.\n",
      "\n",
      "1. Determine if the user should use either Fresnel or Fraunhofer diffraction. The user needs to input waveLen, pixelSize (number of pixels is optional), setup_detector_distance(z), and create either a circular or square aperture.\n",
      "- Implement the class's functions, for computing Fresnel and Fraunhofer criteria.\n",
      "- Implement a class function that computes if one should do Fresnel or Fraunhofer diffraction.\n",
      "\n",
      "2. Relate Fraunhofer to Fresnel diffraction.\n",
      "- Create an circular aperture experiment at a particular aperture-detector distance, z_Frau, where Fraunhofer diffraction applies. \n",
      "- Show that z_Frau can be split into n integer distances, n*z_Fres, where n_Fres satisfies the Fresnel criteria.\n",
      "- Show that propagating the wavefield via Fresnel diffraction n times, each at distance z_Fres, results in the Fraunhofer diffraction. (Hint: you will have to propagate the complex wavefield by using the Fresnel(showPhase=True). You will also need to manually change the object's self.obj. "
     ]
    },
    {
     "cell_type": "markdown",
     "metadata": {},
     "source": [
      "#Dushan\n",
      "##Document what you did with clear and concise comments.\n",
      "1. Insert up to 2-lines of \"\"\"comments\"\"\" after the major functions in the diffractor class.\n",
      "2. Implement a new propagator based on the Rayleigh-Sommerfeld propagator (equation 4-9).\n",
      "3. Compare the Rayleigh-Sommerfeld propagated wave with both Fresnel and Fraunhofer diffraction.\n",
      "4. Replace the diffractor class in /lib/diffraction.py with this new class."
     ]
    },
    {
     "cell_type": "code",
     "collapsed": true,
     "input": [],
     "language": "python",
     "metadata": {},
     "outputs": [],
     "prompt_number": null
    }
   ],
   "metadata": {}
  }
 ]
}